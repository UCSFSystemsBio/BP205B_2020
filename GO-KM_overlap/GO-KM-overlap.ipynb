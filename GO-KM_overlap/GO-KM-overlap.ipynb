{
 "cells": [
  {
   "cell_type": "markdown",
   "metadata": {},
   "source": [
    "# Comparing GO and KM results"
   ]
  },
  {
   "cell_type": "code",
   "execution_count": 1,
   "metadata": {},
   "outputs": [],
   "source": [
    "#imports\n",
    "import os\n",
    "import csv"
   ]
  },
  {
   "cell_type": "code",
   "execution_count": 2,
   "metadata": {},
   "outputs": [],
   "source": [
    "#dictionary of csv paths\n",
    "def get_paths(GO_dir, batch):\n",
    "    csv_paths = {}\n",
    "    batch_dir = os.path.join(GO_dir, batch)\n",
    "    for f in os.listdir(batch_dir):\n",
    "        #get all directories\n",
    "        cluster_dir = os.path.join(batch_dir, f)\n",
    "        if os.path.isdir(cluster_dir):\n",
    "            cluster_dir_name = f.split('_prerank')[0]\n",
    "            for g in os.listdir(cluster_dir):\n",
    "                if g[-4:] == '.csv': #found csv\n",
    "                    csv_paths[cluster_dir_name] = os.path.join(cluster_dir, g)\n",
    "    return csv_paths"
   ]
  },
  {
   "cell_type": "code",
   "execution_count": 3,
   "metadata": {},
   "outputs": [],
   "source": [
    "def filter_metagenes(csv_paths, pval_cutoff, fdr_cutoff, filename):\n",
    "    diff_exp = {}\n",
    "    dex = []\n",
    "    \n",
    "    csv_columns = None\n",
    "    for comp, csv_f in csv_paths.items():\n",
    "        diff_exp[comp] = []\n",
    "        with open(csv_f) as f:\n",
    "            input_file = csv.DictReader(f)\n",
    "            for gene_set in input_file:\n",
    "                if csv_columns is None:\n",
    "                    csv_columns = [\"pair\"] + list(gene_set.keys()) \n",
    "                try:\n",
    "                    if float(gene_set['pval']) < pval_cutoff and float(gene_set['es'])*float(gene_set['fdr']) < fdr_cutoff:\n",
    "                        diff_exp[comp].append(gene_set) \n",
    "                        \n",
    "                        gene_set['pair'] = comp\n",
    "                        dex.append(gene_set)\n",
    "                #ignore results that are missing a p-val \n",
    "                except:\n",
    "                    pass\n",
    "        diff_exp[comp] = sorted(diff_exp[comp], key = lambda x: float(x['es']), reverse = True) #sort by enrichment\n",
    "    \n",
    "    #write filtered to csv\n",
    "    with open(os.path.join(GO_dir, filename), 'w', newline=\"\") as f:  \n",
    "        writer = csv.DictWriter(f, fieldnames=csv_columns)\n",
    "        writer.writeheader()\n",
    "        for data in dex:\n",
    "            writer.writerow(data)\n",
    "    \n",
    "    return diff_exp\n",
    "    "
   ]
  },
  {
   "cell_type": "code",
   "execution_count": 4,
   "metadata": {},
   "outputs": [],
   "source": [
    "# read in KM data, filter on KM\n",
    "def survival_data(survival_analysis, HZ_cutoff, FC_cutoff):\n",
    "    survival_data = {}\n",
    "    with open(survival_analysis) as f:\n",
    "        input_file = csv.DictReader(f)\n",
    "        for KM in input_file:\n",
    "            if float(KM['HZ_KM']) > HZ_cutoff and KM['signature'][-1] == str(FC_cutoff): #only consider fold change threshold 1 for now\n",
    "                survival_data[KM['signature']] = (float(KM['pval_KM']), float(KM['HZ_KM']), int(KM['n_low']), int(KM['n_high']))\n",
    "    return survival_data"
   ]
  },
  {
   "cell_type": "code",
   "execution_count": 5,
   "metadata": {},
   "outputs": [],
   "source": [
    "#read in metagenes, enforce fc 2 cutoff\n",
    "def read_metagenes(metagene_dir, FC_cutoff ):\n",
    "    metagene_dict = {}\n",
    "    \n",
    "    for subdir in [\"/UP\", \"/DOWN\"]:\n",
    "        for file in os.listdir(metagene_dir + subdir):\n",
    "            metagene_dict[file.replace(\".csv\", \"\")] = []\n",
    "            with open(os.path.join(metagene_dir + subdir, file)) as f:\n",
    "                input_file = csv.DictReader(f)\n",
    "                for gene in input_file:\n",
    "                    if float(gene['logfoldchange']) > FC_cutoff:\n",
    "                        metagene_dict[file.replace(\".csv\", \"\")].append(gene['genes'])\n",
    "\n",
    "    return metagene_dict"
   ]
  },
  {
   "cell_type": "code",
   "execution_count": 6,
   "metadata": {},
   "outputs": [],
   "source": [
    "# for each survival analysis that looks interesting, look at overlap in GO enriched vs our metagenes\n",
    "def calc_overlap(filename, survival_data, diff_exp, metagene_dict):\n",
    "    results = []\n",
    "    for KM in survival_data:\n",
    "        key = '_'.join(KM.split('_')[1:-2])\n",
    "        if key not in diff_exp:\n",
    "            continue\n",
    "        for gene_group in diff_exp[key]:\n",
    "            gene_list = set(gene_group['ledge_genes'].split(';'))\n",
    "            metagene = metagene_dict[key]\n",
    "            overlap = [mg for mg in metagene if mg in gene_list]\n",
    "            result_dict = {'key':key, 'term':gene_group['Term'], 'es':gene_group['es'], 'overlap':\";\".join(overlap), \n",
    "                           'ledge':gene_group['ledge_genes'], 'metagene':\";\".join([mg for mg in metagene]), \n",
    "                            'perc': len(overlap) / float(len(gene_list))}\n",
    "            results.append(result_dict)\n",
    "            \n",
    "    csv_columns = ['key', 'term', 'es', 'overlap', 'ledge', 'metagene', 'perc']\n",
    "    \n",
    "    #write filtered to csv\n",
    "    with open(os.path.join(GO_dir, filename), 'w', newline=\"\") as f:  \n",
    "        writer = csv.DictWriter(f, fieldnames=csv_columns)\n",
    "        writer.writeheader()\n",
    "        for result_dict in results:\n",
    "            writer.writerow(result_dict)"
   ]
  },
  {
   "cell_type": "code",
   "execution_count": 7,
   "metadata": {},
   "outputs": [],
   "source": [
    "def run_all(GO_dir, batch, metagene_dir, survival_analysis, pval_cutoff, fdr_cutoff, hz_cutoff, fc_cutoff):\n",
    "    csv_paths = get_paths(GO_dir, batch)\n",
    "    diff_exp = filter_metagenes(csv_paths, pval_cutoff, fdr_cutoff, f'{batch}_GO_filtered.csv')\n",
    "    sa = survival_data(survival_analysis, hz_cutoff, fc_cutoff)\n",
    "    metagene_dict = read_metagenes(metagene_dir, fc_cutoff)\n",
    "    calc_overlap(f\"{batch}_overlap_FC-{fc_cutoff}_HZ-{hz_cutoff}.csv\", sa, diff_exp, metagene_dict)"
   ]
  },
  {
   "cell_type": "code",
   "execution_count": 8,
   "metadata": {},
   "outputs": [],
   "source": [
    "#filepaths\n",
    "GO_dir = \"/Users/student/Documents/Wi20-SysBio/BP205B_2020/GO-KM_overlap\"\n",
    "filepaths = [[\"MDA\", \"/Users/student/Documents/Wi20-SysBio/metagenes/mda\", \"/Users/student/Documents/Wi20-SysBio/BP205B_2020/GO-KM_overlap/MDA_filtered.csv\"],\n",
    "             [\"HCC_MK\", \"/Users/student/Documents/Wi20-SysBio/metagenes/mk\",  \"/Users/student/Documents/Wi20-SysBio/BP205B_2020/GO-KM_overlap/HCC_filtered.csv\"]]\n",
    "\n",
    "pval_cutoff, fdr_cutoff = 0.05, 0.05 \n",
    "\n",
    "fc_cutoffs = [0, 1, 2]\n",
    "hz_cutoffs = [0.5, 0.7, 1]\n",
    "for batch_info in filepaths:\n",
    "    for fc_cutoff in fc_cutoffs:\n",
    "        for hz_cutoff in hz_cutoffs:\n",
    "            run_all(GO_dir, *batch_info, pval_cutoff, fdr_cutoff, hz_cutoff, fc_cutoff)"
   ]
  },
  {
   "cell_type": "code",
   "execution_count": null,
   "metadata": {},
   "outputs": [],
   "source": []
  }
 ],
 "metadata": {
  "kernelspec": {
   "display_name": "Python (SysBio)",
   "language": "python",
   "name": "sysbio"
  },
  "language_info": {
   "codemirror_mode": {
    "name": "ipython",
    "version": 3
   },
   "file_extension": ".py",
   "mimetype": "text/x-python",
   "name": "python",
   "nbconvert_exporter": "python",
   "pygments_lexer": "ipython3",
   "version": "3.7.6"
  }
 },
 "nbformat": 4,
 "nbformat_minor": 2
}
