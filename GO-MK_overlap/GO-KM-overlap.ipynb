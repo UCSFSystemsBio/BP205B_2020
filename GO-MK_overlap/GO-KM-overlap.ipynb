{
 "cells": [
  {
   "cell_type": "markdown",
   "metadata": {},
   "source": [
    "# Comparing GO and KM results"
   ]
  },
  {
   "cell_type": "code",
   "execution_count": 275,
   "metadata": {},
   "outputs": [],
   "source": [
    "#imports\n",
    "import os\n",
    "import csv"
   ]
  },
  {
   "cell_type": "code",
   "execution_count": 276,
   "metadata": {},
   "outputs": [],
   "source": [
    "#filepaths\n",
    "GO_dir = \"/Users/student/Documents/Wi20-SysBio/GSEA\"\n",
    "metagene_dir = \"/Users/student/Documents/Wi20-SysBio/metagenes/mda\""
   ]
  },
  {
   "cell_type": "code",
   "execution_count": 323,
   "metadata": {},
   "outputs": [],
   "source": [
    "paths = get_paths(GO_dir, \"MDA\")"
   ]
  },
  {
   "cell_type": "code",
   "execution_count": 324,
   "metadata": {},
   "outputs": [
    {
     "data": {
      "text/plain": [
       "{'1_vs_proxy_parental_UP': '/Users/student/Documents/Wi20-SysBio/GSEA/MDA/1_vs_proxy_parental_UP_prerank_report_GO/gseapy.prerank.gene_sets.report.csv',\n",
       " '2_vs_proxy_parental_UP': '/Users/student/Documents/Wi20-SysBio/GSEA/MDA/2_vs_proxy_parental_UP_prerank_report_GO/gseapy.prerank.gene_sets.report.csv',\n",
       " '3_vs_proxy_parental_DOWN': '/Users/student/Documents/Wi20-SysBio/GSEA/MDA/3_vs_proxy_parental_DOWN_prerank_report_GO/gseapy.prerank.gene_sets.report.csv',\n",
       " '4_vs_proxy_parental_UP': '/Users/student/Documents/Wi20-SysBio/GSEA/MDA/4_vs_proxy_parental_UP_prerank_report_GO/gseapy.prerank.gene_sets.report.csv',\n",
       " '7_vs_proxy_parental_DOWN': '/Users/student/Documents/Wi20-SysBio/GSEA/MDA/7_vs_proxy_parental_DOWN_prerank_report_GO/gseapy.prerank.gene_sets.report.csv',\n",
       " '7_vs_proxy_parental_UP': '/Users/student/Documents/Wi20-SysBio/GSEA/MDA/7_vs_proxy_parental_UP_prerank_report_GO/gseapy.prerank.gene_sets.report.csv',\n",
       " '13_vs_proxy_parental_UP': '/Users/student/Documents/Wi20-SysBio/GSEA/MDA/13_vs_proxy_parental_UP_prerank_report_GO/gseapy.prerank.gene_sets.report.csv',\n",
       " '8_vs_proxy_parental_UP': '/Users/student/Documents/Wi20-SysBio/GSEA/MDA/8_vs_proxy_parental_UP_prerank_report_GO/gseapy.prerank.gene_sets.report.csv',\n",
       " 'Met-Like_parental_vs_rest_DOWN': '/Users/student/Documents/Wi20-SysBio/GSEA/MDA/Met-Like_parental_vs_rest_DOWN_prerank_report_GO/gseapy.prerank.gene_sets.report.csv',\n",
       " '0_vs_proxy_parental_DOWN': '/Users/student/Documents/Wi20-SysBio/GSEA/MDA/0_vs_proxy_parental_DOWN_prerank_report_GO/gseapy.prerank.gene_sets.report.csv',\n",
       " 'p-Low_vs_p-LM2_UP': '/Users/student/Documents/Wi20-SysBio/GSEA/MDA/p-Low_vs_p-LM2_UP_prerank_report_GO/gseapy.prerank.gene_sets.report.csv',\n",
       " 'p-Low_vs_p-BoM_UP': '/Users/student/Documents/Wi20-SysBio/GSEA/MDA/p-Low_vs_p-BoM_UP_prerank_report_GO/gseapy.prerank.gene_sets.report.csv',\n",
       " '4_vs_proxy_parental_DOWN': '/Users/student/Documents/Wi20-SysBio/GSEA/MDA/4_vs_proxy_parental_DOWN_prerank_report_GO/gseapy.prerank.gene_sets.report.csv',\n",
       " '10_vs_proxy_parental_UP': '/Users/student/Documents/Wi20-SysBio/GSEA/MDA/10_vs_proxy_parental_UP_prerank_report_GO/gseapy.prerank.gene_sets.report.csv',\n",
       " 'p-Low_vs_p-LM2_DOWN': '/Users/student/Documents/Wi20-SysBio/GSEA/MDA/p-Low_vs_p-LM2_DOWN_prerank_report_GO/gseapy.prerank.gene_sets.report.csv',\n",
       " '13_vs_proxy_parental_DOWN': '/Users/student/Documents/Wi20-SysBio/GSEA/MDA/13_vs_proxy_parental_DOWN_prerank_report_GO/gseapy.prerank.gene_sets.report.csv',\n",
       " '8_vs_proxy_parental_DOWN': '/Users/student/Documents/Wi20-SysBio/GSEA/MDA/8_vs_proxy_parental_DOWN_prerank_report_GO/gseapy.prerank.gene_sets.report.csv',\n",
       " 'p-Low_vs_p-BoM_DOWN': '/Users/student/Documents/Wi20-SysBio/GSEA/MDA/p-Low_vs_p-BoM_DOWN_prerank_report_GO/gseapy.prerank.gene_sets.report.csv',\n",
       " '6_vs_proxy_parental_DOWN': '/Users/student/Documents/Wi20-SysBio/GSEA/MDA/6_vs_proxy_parental_DOWN_prerank_report_GO/gseapy.prerank.gene_sets.report.csv',\n",
       " 'p-Low_vs_p-Brm2_DOWN': '/Users/student/Documents/Wi20-SysBio/GSEA/MDA/p-Low_vs_p-Brm2_DOWN_prerank_report_GO/gseapy.prerank.gene_sets.report.csv',\n",
       " '2_vs_proxy_parental_DOWN': '/Users/student/Documents/Wi20-SysBio/GSEA/MDA/2_vs_proxy_parental_DOWN_prerank_report_GO/gseapy.prerank.gene_sets.report.csv',\n",
       " '11_vs_proxy_parental_UP': '/Users/student/Documents/Wi20-SysBio/GSEA/MDA/11_vs_proxy_parental_UP_prerank_report_GO/gseapy.prerank.gene_sets.report.csv',\n",
       " '9_vs_proxy_parental_UP': '/Users/student/Documents/Wi20-SysBio/GSEA/MDA/9_vs_proxy_parental_UP_prerank_report_GO/gseapy.prerank.gene_sets.report.csv',\n",
       " '12_vs_proxy_parental_UP': '/Users/student/Documents/Wi20-SysBio/GSEA/MDA/12_vs_proxy_parental_UP_prerank_report_GO/gseapy.prerank.gene_sets.report.csv',\n",
       " '11_vs_proxy_parental_DOWN': '/Users/student/Documents/Wi20-SysBio/GSEA/MDA/11_vs_proxy_parental_DOWN_prerank_report_GO/gseapy.prerank.gene_sets.report.csv',\n",
       " '6_vs_proxy_parental_UP': '/Users/student/Documents/Wi20-SysBio/GSEA/MDA/6_vs_proxy_parental_UP_prerank_report_GO/gseapy.prerank.gene_sets.report.csv',\n",
       " '9_vs_proxy_parental_DOWN': '/Users/student/Documents/Wi20-SysBio/GSEA/MDA/9_vs_proxy_parental_DOWN_prerank_report_GO/gseapy.prerank.gene_sets.report.csv',\n",
       " 'p-Low_vs_p-Brm2_UP': '/Users/student/Documents/Wi20-SysBio/GSEA/MDA/p-Low_vs_p-Brm2_UP_prerank_report_GO/gseapy.prerank.gene_sets.report.csv',\n",
       " 'Met-Like_parental_vs_rest_UP': '/Users/student/Documents/Wi20-SysBio/GSEA/MDA/Met-Like_parental_vs_rest_UP_prerank_report_GO/gseapy.prerank.gene_sets.report.csv',\n",
       " '5_vs_proxy_parental_UP': '/Users/student/Documents/Wi20-SysBio/GSEA/MDA/5_vs_proxy_parental_UP_prerank_report_GO/gseapy.prerank.gene_sets.report.csv',\n",
       " '12_vs_proxy_parental_DOWN': '/Users/student/Documents/Wi20-SysBio/GSEA/MDA/12_vs_proxy_parental_DOWN_prerank_report_GO/gseapy.prerank.gene_sets.report.csv',\n",
       " '5_vs_proxy_parental_DOWN': '/Users/student/Documents/Wi20-SysBio/GSEA/MDA/5_vs_proxy_parental_DOWN_prerank_report_GO/gseapy.prerank.gene_sets.report.csv',\n",
       " '3_vs_proxy_parental_UP': '/Users/student/Documents/Wi20-SysBio/GSEA/MDA/3_vs_proxy_parental_UP_prerank_report_GO/gseapy.prerank.gene_sets.report.csv',\n",
       " '0_vs_proxy_parental_UP': '/Users/student/Documents/Wi20-SysBio/GSEA/MDA/0_vs_proxy_parental_UP_prerank_report_GO/gseapy.prerank.gene_sets.report.csv',\n",
       " '1_vs_proxy_parental_DOWN': '/Users/student/Documents/Wi20-SysBio/GSEA/MDA/1_vs_proxy_parental_DOWN_prerank_report_GO/gseapy.prerank.gene_sets.report.csv'}"
      ]
     },
     "execution_count": 324,
     "metadata": {},
     "output_type": "execute_result"
    }
   ],
   "source": [
    "paths"
   ]
  },
  {
   "cell_type": "code",
   "execution_count": 326,
   "metadata": {},
   "outputs": [],
   "source": [
    "fm = filter_metagenes(paths, 0.05, 0.05,  f'MDA_GO_filtered.csv')"
   ]
  },
  {
   "cell_type": "code",
   "execution_count": 331,
   "metadata": {},
   "outputs": [],
   "source": [
    "sd = survival_data(\"/Users/student/Documents/Wi20-SysBio/GSEA/MDA_filtered.csv\", 0.5, 0)"
   ]
  },
  {
   "cell_type": "code",
   "execution_count": 332,
   "metadata": {},
   "outputs": [
    {
     "data": {
      "text/plain": [
       "{'MDA_1_vs_proxy_parental_UP_FC_0': (3.2e-05, 0.659271571, 400, 1580),\n",
       " 'MDA_7_vs_proxy_parental_DOWN_FC_0': (7.69e-05, 0.654868116, 324, 1656),\n",
       " 'MDA_2_vs_proxy_parental_UP_FC_0': (0.000181291, 0.654530454, 275, 1705),\n",
       " 'MDA_3_vs_proxy_parental_UP_FC_0': (5.1e-05, 0.650045483, 329, 1651),\n",
       " 'MDA_10_vs_proxy_parental_DOWN_FC_0': (5.29e-07, 0.645081151, 794, 1186),\n",
       " 'MDA_6_vs_proxy_parental_UP_FC_0': (6.16e-07, 0.643237742, 683, 1297),\n",
       " 'MDA_Met-Like_parental_vs_rest_UP_FC_0': (2.77e-06, 0.628574694, 397, 1583),\n",
       " 'MDA_12_vs_proxy_parental_DOWN_FC_0': (3.77e-08, 0.617058009, 711, 1269),\n",
       " 'MDA_5_vs_proxy_parental_UP_FC_0': (1.79e-08, 0.61168646, 761, 1219),\n",
       " 'MDA_13_vs_proxy_parental_UP_FC_0': (2.58e-05, 0.611308754, 243, 1737),\n",
       " 'MDA_p-Low_vs_p-BoM_UP_FC_0': (3.2e-06, 0.610110954, 314, 1666),\n",
       " 'MDA_10_vs_proxy_parental_UP_FC_0': (5.56e-06, 0.601406485, 265, 1715),\n",
       " 'MDA_3_vs_proxy_parental_DOWN_FC_0': (6.37e-09, 0.600370431, 925, 1055),\n",
       " 'MDA_p-Low_vs_p-Brm2_DOWN_FC_0': (1.81e-05, 0.5938621, 218, 1762),\n",
       " 'MDA_9_vs_proxy_parental_DOWN_FC_0': (4.83e-08, 0.588813304, 409, 1571),\n",
       " 'MDA_6_vs_proxy_parental_DOWN_FC_0': (1.59e-09, 0.58766923, 660, 1320),\n",
       " 'MDA_p-Low_vs_p-BoM_DOWN_FC_0': (5.26e-07, 0.582579766, 297, 1683),\n",
       " 'MDA_4_vs_proxy_parental_UP_FC_0': (3.11e-10, 0.578444349, 784, 1196),\n",
       " 'MDA_12_vs_proxy_parental_UP_FC_0': (1.38e-05, 0.570055045, 182, 1798),\n",
       " 'MDA_0_vs_proxy_parental_UP_FC_0': (7.69e-08, 0.546697564, 244, 1736),\n",
       " 'MDA_2_vs_proxy_parental_DOWN_FC_0': (3.83e-12, 0.546535378, 694, 1286),\n",
       " 'MDA_13_vs_proxy_parental_DOWN_FC_0': (3.06e-12, 0.545883196, 738, 1242),\n",
       " 'MDA_9_vs_proxy_parental_UP_FC_0': (7.77e-12, 0.54568706, 957, 1023),\n",
       " 'MDA_Met-Like_parental_vs_rest_DOWN_FC_0': (1.67e-07, 0.545410587, 227, 1753),\n",
       " 'MDA_8_vs_proxy_parental_DOWN_FC_0': (6.9e-12, 0.537534983, 1037, 943),\n",
       " 'MDA_8_vs_proxy_parental_UP_FC_0': (3.22e-11, 0.533430873, 421, 1559),\n",
       " 'MDA_7_vs_proxy_parental_UP_FC_0': (2.35e-10, 0.532960305, 359, 1621),\n",
       " 'MDA_p-Low_vs_p-LM2_UP_FC_0': (9.8e-09, 0.530849923, 257, 1723),\n",
       " 'MDA_1_vs_proxy_parental_DOWN_FC_0': (5.48e-14, 0.52086024, 804, 1176),\n",
       " 'MDA_4_vs_proxy_parental_DOWN_FC_0': (2.31e-11, 0.517050661, 357, 1623),\n",
       " 'MDA_5_vs_proxy_parental_DOWN_FC_0': (1.78e-11, 0.514413653, 352, 1628)}"
      ]
     },
     "execution_count": 332,
     "metadata": {},
     "output_type": "execute_result"
    }
   ],
   "source": [
    "sd"
   ]
  },
  {
   "cell_type": "code",
   "execution_count": 278,
   "metadata": {},
   "outputs": [],
   "source": [
    "#survival_analysis = \"/Users/student/Documents/Wi20-SysBio/GSEA/HCC_filtered.csv\"\n",
    "survival_analysis = \"/Users/student/Documents/Wi20-SysBio/GSEA/MDA_filtered.csv\""
   ]
  },
  {
   "cell_type": "code",
   "execution_count": 279,
   "metadata": {},
   "outputs": [],
   "source": [
    "#dictionary of csv paths\n",
    "def get_paths(GO_dir, batch):\n",
    "    csv_paths = {}\n",
    "    batch_dir = os.path.join(GO_dir, batch)\n",
    "    for f in os.listdir(batch_dir):\n",
    "        #get all directories\n",
    "        cluster_dir = os.path.join(batch_dir, f)\n",
    "        if os.path.isdir(cluster_dir):\n",
    "            cluster_dir_name = f.split('_prerank')[0]\n",
    "            for g in os.listdir(cluster_dir):\n",
    "                if g[-4:] == '.csv': #found csv\n",
    "                    csv_paths[cluster_dir_name] = os.path.join(cluster_dir, g)\n",
    "    return csv_paths"
   ]
  },
  {
   "cell_type": "code",
   "execution_count": 282,
   "metadata": {},
   "outputs": [],
   "source": [
    "paths = get_paths(GO_dir, batch)"
   ]
  },
  {
   "cell_type": "code",
   "execution_count": null,
   "metadata": {},
   "outputs": [],
   "source": [
    "fm = filter_metagenes(paths, 0.05, 0.05,  f'{batch}_GO_filtered.csv')"
   ]
  },
  {
   "cell_type": "code",
   "execution_count": 325,
   "metadata": {},
   "outputs": [],
   "source": [
    "def filter_metagenes(csv_paths, pval_cutoff, fdr_cutoff, filename):\n",
    "    diff_exp = {}\n",
    "    dex = []\n",
    "    \n",
    "    csv_columns = None\n",
    "    for comp, csv_f in csv_paths.items():\n",
    "        diff_exp[comp] = []\n",
    "        with open(csv_f) as f:\n",
    "            input_file = csv.DictReader(f)\n",
    "            for gene_set in input_file:\n",
    "                if csv_columns is None:\n",
    "                    csv_columns = [\"pair\"] + list(gene_set.keys()) \n",
    "                try:\n",
    "                    if float(gene_set['pval']) < pval_cutoff and float(gene_set['es'])*float(gene_set['fdr']) < fdr_cutoff:\n",
    "                        diff_exp[comp].append(gene_set) \n",
    "                        \n",
    "                        gene_set['pair'] = comp\n",
    "                        dex.append(gene_set)\n",
    "                #ignore results that are missing a p-val \n",
    "                except:\n",
    "                    pass\n",
    "        diff_exp[comp] = sorted(diff_exp[comp], key = lambda x: float(x['es']), reverse = True) #sort by enrichment\n",
    "    \n",
    "    #write filtered to csv\n",
    "    with open(os.path.join(GO_dir, filename), 'w', newline=\"\") as f:  \n",
    "        writer = csv.DictWriter(f, fieldnames=csv_columns)\n",
    "        writer.writeheader()\n",
    "        for data in dex:\n",
    "            writer.writerow(data)\n",
    "    \n",
    "    return diff_exp\n",
    "    "
   ]
  },
  {
   "cell_type": "code",
   "execution_count": 310,
   "metadata": {},
   "outputs": [],
   "source": [
    "# read in KM data, filter on KM\n",
    "def survival_data(survival_analysis, HZ_cutoff, FC_cutoff):\n",
    "    survival_data = {}\n",
    "    with open(survival_analysis) as f:\n",
    "        input_file = csv.DictReader(f)\n",
    "        for KM in input_file:\n",
    "            if float(KM['HZ_KM']) > HZ_cutoff and KM['signature'][-1] == str(FC_cutoff): #only consider fold change threshold 1 for now\n",
    "                survival_data[KM['signature']] = (float(KM['pval_KM']), float(KM['HZ_KM']), int(KM['n_low']), int(KM['n_high']))\n",
    "    return survival_data"
   ]
  },
  {
   "cell_type": "code",
   "execution_count": 257,
   "metadata": {},
   "outputs": [],
   "source": [
    "#read in metagenes, enforce fc 2 cutoff\n",
    "def read_metagenes(metagene_dir, FC_cutoff ):\n",
    "    metagene_dict = {}\n",
    "    \n",
    "    for subdir in [\"/UP\", \"/DOWN\"]:\n",
    "        for file in os.listdir(metagene_dir + subdir):\n",
    "            metagene_dict[file.replace(\".csv\", \"\")] = []\n",
    "            with open(os.path.join(metagene_dir + subdir, file)) as f:\n",
    "                input_file = csv.DictReader(f)\n",
    "                for gene in input_file:\n",
    "                    if float(gene['logfoldchange']) > FC_cutoff:\n",
    "                        metagene_dict[file.replace(\".csv\", \"\")].append(gene['genes'])\n",
    "\n",
    "    return metagene_dict"
   ]
  },
  {
   "cell_type": "code",
   "execution_count": 297,
   "metadata": {},
   "outputs": [],
   "source": [
    "# for each survival analysis that looks interesting, look at overlap in GO enriched vs our metagenes\n",
    "def calc_overlap(filename, survival_data, diff_exp, metagene_dict):\n",
    "    results = []\n",
    "    for KM in survival_data:\n",
    "        key = '_'.join(KM.split('_')[1:-2])\n",
    "        print(KM, key)\n",
    "        #print(survival_data[KM])\n",
    "        if key not in diff_exp:\n",
    "            continue\n",
    "        for gene_group in diff_exp[key]:\n",
    "            gene_list = set(gene_group['ledge_genes'].split(';'))\n",
    "            metagene = metagene_dict[key]\n",
    "            #print(gene_list, metagene)\n",
    "            overlap = [mg for mg in metagene if mg in gene_list]\n",
    "            result_dict = {'key':key, 'term':gene_group['Term'], 'es':gene_group['es'], 'overlap':\";\".join(overlap), \n",
    "                           'ledge':gene_group['ledge_genes'], 'metagene':\";\".join([mg for mg in metagene]), \n",
    "                            'perc': len(overlap) / float(len(gene_list))}\n",
    "            results.append(result_dict)\n",
    "            #print(key, gene_group['Term'], gene_group['es'], overlap, overlap / float(len(gene_list)))\n",
    "            \n",
    "    csv_columns = ['key', 'term', 'es', 'overlap', 'ledge', 'metagene', 'perc']\n",
    "    \n",
    "    #write filtered to csv\n",
    "    with open(os.path.join(GO_dir, filename), 'w', newline=\"\") as f:  \n",
    "        writer = csv.DictWriter(f, fieldnames=csv_columns)\n",
    "        writer.writeheader()\n",
    "        for result_dict in results:\n",
    "            writer.writerow(result_dict)"
   ]
  },
  {
   "cell_type": "code",
   "execution_count": 335,
   "metadata": {},
   "outputs": [],
   "source": [
    "def run_all(GO_dir, batch, metagene_dir, survival_analysis, pval_cutoff, fdr_cutoff, hz_cutoff, fc_cutoff):\n",
    "    csv_paths = get_paths(GO_dir, batch)\n",
    "    diff_exp = filter_metagenes(csv_paths, pval_cutoff, fdr_cutoff, f'{batch}_GO_filtered.csv')\n",
    "    sa = survival_data(survival_analysis, hz_cutoff, fc_cutoff)\n",
    "    metagene_dict = read_metagenes(metagene_dir, fc_cutoff)\n",
    "    calc_overlap(f\"{batch}_overlap_FC-{fc_cutoff}_HZ-{hz_cutoff}.csv\", sa, diff_exp, metagene_dict)"
   ]
  },
  {
   "cell_type": "code",
   "execution_count": 336,
   "metadata": {},
   "outputs": [
    {
     "name": "stdout",
     "output_type": "stream",
     "text": [
      "['MDA', '/Users/student/Documents/Wi20-SysBio/metagenes/mda', '/Users/student/Documents/Wi20-SysBio/GSEA/MDA_filtered.csv'] 0 [0.5, 0.7, 1]\n",
      "MDA_1_vs_proxy_parental_UP_FC_0 1_vs_proxy_parental_UP\n",
      "MDA_7_vs_proxy_parental_DOWN_FC_0 7_vs_proxy_parental_DOWN\n",
      "MDA_2_vs_proxy_parental_UP_FC_0 2_vs_proxy_parental_UP\n",
      "MDA_3_vs_proxy_parental_UP_FC_0 3_vs_proxy_parental_UP\n",
      "MDA_10_vs_proxy_parental_DOWN_FC_0 10_vs_proxy_parental_DOWN\n",
      "MDA_6_vs_proxy_parental_UP_FC_0 6_vs_proxy_parental_UP\n",
      "MDA_Met-Like_parental_vs_rest_UP_FC_0 Met-Like_parental_vs_rest_UP\n",
      "MDA_12_vs_proxy_parental_DOWN_FC_0 12_vs_proxy_parental_DOWN\n",
      "MDA_5_vs_proxy_parental_UP_FC_0 5_vs_proxy_parental_UP\n",
      "MDA_13_vs_proxy_parental_UP_FC_0 13_vs_proxy_parental_UP\n",
      "MDA_p-Low_vs_p-BoM_UP_FC_0 p-Low_vs_p-BoM_UP\n",
      "MDA_10_vs_proxy_parental_UP_FC_0 10_vs_proxy_parental_UP\n",
      "MDA_3_vs_proxy_parental_DOWN_FC_0 3_vs_proxy_parental_DOWN\n",
      "MDA_p-Low_vs_p-Brm2_DOWN_FC_0 p-Low_vs_p-Brm2_DOWN\n",
      "MDA_9_vs_proxy_parental_DOWN_FC_0 9_vs_proxy_parental_DOWN\n",
      "MDA_6_vs_proxy_parental_DOWN_FC_0 6_vs_proxy_parental_DOWN\n",
      "MDA_p-Low_vs_p-BoM_DOWN_FC_0 p-Low_vs_p-BoM_DOWN\n",
      "MDA_4_vs_proxy_parental_UP_FC_0 4_vs_proxy_parental_UP\n",
      "MDA_12_vs_proxy_parental_UP_FC_0 12_vs_proxy_parental_UP\n",
      "MDA_0_vs_proxy_parental_UP_FC_0 0_vs_proxy_parental_UP\n",
      "MDA_2_vs_proxy_parental_DOWN_FC_0 2_vs_proxy_parental_DOWN\n",
      "MDA_13_vs_proxy_parental_DOWN_FC_0 13_vs_proxy_parental_DOWN\n",
      "MDA_9_vs_proxy_parental_UP_FC_0 9_vs_proxy_parental_UP\n",
      "MDA_Met-Like_parental_vs_rest_DOWN_FC_0 Met-Like_parental_vs_rest_DOWN\n",
      "MDA_8_vs_proxy_parental_DOWN_FC_0 8_vs_proxy_parental_DOWN\n",
      "MDA_8_vs_proxy_parental_UP_FC_0 8_vs_proxy_parental_UP\n",
      "MDA_7_vs_proxy_parental_UP_FC_0 7_vs_proxy_parental_UP\n",
      "MDA_p-Low_vs_p-LM2_UP_FC_0 p-Low_vs_p-LM2_UP\n",
      "MDA_1_vs_proxy_parental_DOWN_FC_0 1_vs_proxy_parental_DOWN\n",
      "MDA_4_vs_proxy_parental_DOWN_FC_0 4_vs_proxy_parental_DOWN\n",
      "MDA_5_vs_proxy_parental_DOWN_FC_0 5_vs_proxy_parental_DOWN\n",
      "['MDA', '/Users/student/Documents/Wi20-SysBio/metagenes/mda', '/Users/student/Documents/Wi20-SysBio/GSEA/MDA_filtered.csv'] 0 [0.5, 0.7, 1]\n",
      "['MDA', '/Users/student/Documents/Wi20-SysBio/metagenes/mda', '/Users/student/Documents/Wi20-SysBio/GSEA/MDA_filtered.csv'] 0 [0.5, 0.7, 1]\n",
      "['MDA', '/Users/student/Documents/Wi20-SysBio/metagenes/mda', '/Users/student/Documents/Wi20-SysBio/GSEA/MDA_filtered.csv'] 1 [0.5, 0.7, 1]\n",
      "MDA_3_vs_proxy_parental_DOWN_FC_1 3_vs_proxy_parental_DOWN\n",
      "MDA_p-Low_vs_p-BoM_DOWN_FC_1 p-Low_vs_p-BoM_DOWN\n",
      "MDA_p-Low_vs_p-BoM_UP_FC_1 p-Low_vs_p-BoM_UP\n",
      "MDA_6_vs_proxy_parental_DOWN_FC_1 6_vs_proxy_parental_DOWN\n",
      "MDA_5_vs_proxy_parental_DOWN_FC_1 5_vs_proxy_parental_DOWN\n",
      "MDA_7_vs_proxy_parental_DOWN_FC_1 7_vs_proxy_parental_DOWN\n",
      "MDA_Met-Like_parental_vs_rest_UP_FC_1 Met-Like_parental_vs_rest_UP\n",
      "MDA_8_vs_proxy_parental_DOWN_FC_1 8_vs_proxy_parental_DOWN\n",
      "MDA_p-Low_vs_p-LM2_UP_FC_1 p-Low_vs_p-LM2_UP\n",
      "MDA_10_vs_proxy_parental_UP_FC_1 10_vs_proxy_parental_UP\n",
      "MDA_p-Low_vs_p-Brm2_UP_FC_1 p-Low_vs_p-Brm2_UP\n",
      "MDA_2_vs_proxy_parental_DOWN_FC_1 2_vs_proxy_parental_DOWN\n",
      "MDA_9_vs_proxy_parental_DOWN_FC_1 9_vs_proxy_parental_DOWN\n",
      "MDA_4_vs_proxy_parental_DOWN_FC_1 4_vs_proxy_parental_DOWN\n",
      "MDA_0_vs_proxy_parental_DOWN_FC_1 0_vs_proxy_parental_DOWN\n",
      "['MDA', '/Users/student/Documents/Wi20-SysBio/metagenes/mda', '/Users/student/Documents/Wi20-SysBio/GSEA/MDA_filtered.csv'] 1 [0.5, 0.7, 1]\n",
      "MDA_3_vs_proxy_parental_DOWN_FC_1 3_vs_proxy_parental_DOWN\n",
      "MDA_p-Low_vs_p-BoM_DOWN_FC_1 p-Low_vs_p-BoM_DOWN\n",
      "MDA_p-Low_vs_p-BoM_UP_FC_1 p-Low_vs_p-BoM_UP\n",
      "MDA_6_vs_proxy_parental_DOWN_FC_1 6_vs_proxy_parental_DOWN\n",
      "['MDA', '/Users/student/Documents/Wi20-SysBio/metagenes/mda', '/Users/student/Documents/Wi20-SysBio/GSEA/MDA_filtered.csv'] 1 [0.5, 0.7, 1]\n",
      "MDA_3_vs_proxy_parental_DOWN_FC_1 3_vs_proxy_parental_DOWN\n",
      "MDA_p-Low_vs_p-BoM_DOWN_FC_1 p-Low_vs_p-BoM_DOWN\n",
      "['MDA', '/Users/student/Documents/Wi20-SysBio/metagenes/mda', '/Users/student/Documents/Wi20-SysBio/GSEA/MDA_filtered.csv'] 2 [0.5, 0.7, 1]\n",
      "MDA_8_vs_proxy_parental_DOWN_FC_2 8_vs_proxy_parental_DOWN\n",
      "MDA_13_vs_proxy_parental_DOWN_FC_2 13_vs_proxy_parental_DOWN\n",
      "MDA_12_vs_proxy_parental_DOWN_FC_2 12_vs_proxy_parental_DOWN\n",
      "MDA_1_vs_proxy_parental_DOWN_FC_2 1_vs_proxy_parental_DOWN\n",
      "MDA_4_vs_proxy_parental_DOWN_FC_2 4_vs_proxy_parental_DOWN\n",
      "MDA_0_vs_proxy_parental_DOWN_FC_2 0_vs_proxy_parental_DOWN\n",
      "MDA_5_vs_proxy_parental_DOWN_FC_2 5_vs_proxy_parental_DOWN\n",
      "MDA_0_vs_proxy_parental_UP_FC_2 0_vs_proxy_parental_UP\n",
      "MDA_11_vs_proxy_parental_UP_FC_2 11_vs_proxy_parental_UP\n",
      "MDA_p-Low_vs_p-LM2_UP_FC_2 p-Low_vs_p-LM2_UP\n",
      "MDA_p-Low_vs_p-LM2_DOWN_FC_2 p-Low_vs_p-LM2_DOWN\n",
      "['MDA', '/Users/student/Documents/Wi20-SysBio/metagenes/mda', '/Users/student/Documents/Wi20-SysBio/GSEA/MDA_filtered.csv'] 2 [0.5, 0.7, 1]\n",
      "MDA_8_vs_proxy_parental_DOWN_FC_2 8_vs_proxy_parental_DOWN\n",
      "MDA_13_vs_proxy_parental_DOWN_FC_2 13_vs_proxy_parental_DOWN\n",
      "MDA_12_vs_proxy_parental_DOWN_FC_2 12_vs_proxy_parental_DOWN\n",
      "MDA_1_vs_proxy_parental_DOWN_FC_2 1_vs_proxy_parental_DOWN\n",
      "MDA_4_vs_proxy_parental_DOWN_FC_2 4_vs_proxy_parental_DOWN\n",
      "MDA_0_vs_proxy_parental_DOWN_FC_2 0_vs_proxy_parental_DOWN\n",
      "['MDA', '/Users/student/Documents/Wi20-SysBio/metagenes/mda', '/Users/student/Documents/Wi20-SysBio/GSEA/MDA_filtered.csv'] 2 [0.5, 0.7, 1]\n",
      "MDA_8_vs_proxy_parental_DOWN_FC_2 8_vs_proxy_parental_DOWN\n",
      "MDA_13_vs_proxy_parental_DOWN_FC_2 13_vs_proxy_parental_DOWN\n",
      "['HCC_MK', '/Users/student/Documents/Wi20-SysBio/metagenes/mk', '/Users/student/Documents/Wi20-SysBio/GSEA/HCC_filtered.csv'] 0 [0.5, 0.7, 1]\n",
      "HCC_LM-H_vs_p-L_DOWN_FC_0 LM-H_vs_p-L_DOWN\n",
      "HCC_0_vs_p-L_DOWN_FC_0 0_vs_p-L_DOWN\n",
      "HCC_4_vs_p-L_DOWN_FC_0 4_vs_p-L_DOWN\n",
      "HCC_7_vs_p-L_DOWN_FC_0 7_vs_p-L_DOWN\n",
      "HCC_6_vs_p-L_DOWN_FC_0 6_vs_p-L_DOWN\n",
      "HCC_p-H_vs_p-L_DOWN_FC_0 p-H_vs_p-L_DOWN\n",
      "HCC_1_vs_p-L_DOWN_FC_0 1_vs_p-L_DOWN\n",
      "HCC_2_vs_p-L_DOWN_FC_0 2_vs_p-L_DOWN\n",
      "HCC_5_vs_p-L_DOWN_FC_0 5_vs_p-L_DOWN\n",
      "HCC_LM-H_vs_LM-L_UP_FC_0 LM-H_vs_LM-L_UP\n",
      "HCC_3_vs_p-L_UP_FC_0 3_vs_p-L_UP\n",
      "HCC_2_vs_p-L_UP_FC_0 2_vs_p-L_UP\n",
      "HCC_0_vs_p-L_UP_FC_0 0_vs_p-L_UP\n",
      "HCC_7_vs_p-L_UP_FC_0 7_vs_p-L_UP\n",
      "['HCC_MK', '/Users/student/Documents/Wi20-SysBio/metagenes/mk', '/Users/student/Documents/Wi20-SysBio/GSEA/HCC_filtered.csv'] 0 [0.5, 0.7, 1]\n",
      "HCC_LM-H_vs_p-L_DOWN_FC_0 LM-H_vs_p-L_DOWN\n",
      "HCC_0_vs_p-L_DOWN_FC_0 0_vs_p-L_DOWN\n",
      "HCC_4_vs_p-L_DOWN_FC_0 4_vs_p-L_DOWN\n",
      "HCC_7_vs_p-L_DOWN_FC_0 7_vs_p-L_DOWN\n",
      "HCC_6_vs_p-L_DOWN_FC_0 6_vs_p-L_DOWN\n",
      "HCC_p-H_vs_p-L_DOWN_FC_0 p-H_vs_p-L_DOWN\n",
      "HCC_1_vs_p-L_DOWN_FC_0 1_vs_p-L_DOWN\n",
      "HCC_2_vs_p-L_DOWN_FC_0 2_vs_p-L_DOWN\n",
      "HCC_5_vs_p-L_DOWN_FC_0 5_vs_p-L_DOWN\n",
      "['HCC_MK', '/Users/student/Documents/Wi20-SysBio/metagenes/mk', '/Users/student/Documents/Wi20-SysBio/GSEA/HCC_filtered.csv'] 0 [0.5, 0.7, 1]\n",
      "HCC_LM-H_vs_p-L_DOWN_FC_0 LM-H_vs_p-L_DOWN\n",
      "HCC_0_vs_p-L_DOWN_FC_0 0_vs_p-L_DOWN\n",
      "HCC_4_vs_p-L_DOWN_FC_0 4_vs_p-L_DOWN\n",
      "HCC_7_vs_p-L_DOWN_FC_0 7_vs_p-L_DOWN\n",
      "HCC_6_vs_p-L_DOWN_FC_0 6_vs_p-L_DOWN\n",
      "HCC_p-H_vs_p-L_DOWN_FC_0 p-H_vs_p-L_DOWN\n",
      "HCC_1_vs_p-L_DOWN_FC_0 1_vs_p-L_DOWN\n",
      "HCC_2_vs_p-L_DOWN_FC_0 2_vs_p-L_DOWN\n",
      "HCC_5_vs_p-L_DOWN_FC_0 5_vs_p-L_DOWN\n",
      "['HCC_MK', '/Users/student/Documents/Wi20-SysBio/metagenes/mk', '/Users/student/Documents/Wi20-SysBio/GSEA/HCC_filtered.csv'] 1 [0.5, 0.7, 1]\n",
      "HCC_LM-H_vs_p-L_DOWN_FC_1 LM-H_vs_p-L_DOWN\n",
      "HCC_2_vs_p-L_DOWN_FC_1 2_vs_p-L_DOWN\n",
      "HCC_8_vs_p-L_DOWN_FC_1 8_vs_p-L_DOWN\n",
      "HCC_7_vs_p-L_UP_FC_1 7_vs_p-L_UP\n",
      "['HCC_MK', '/Users/student/Documents/Wi20-SysBio/metagenes/mk', '/Users/student/Documents/Wi20-SysBio/GSEA/HCC_filtered.csv'] 1 [0.5, 0.7, 1]\n",
      "HCC_LM-H_vs_p-L_DOWN_FC_1 LM-H_vs_p-L_DOWN\n",
      "HCC_2_vs_p-L_DOWN_FC_1 2_vs_p-L_DOWN\n",
      "HCC_8_vs_p-L_DOWN_FC_1 8_vs_p-L_DOWN\n",
      "['HCC_MK', '/Users/student/Documents/Wi20-SysBio/metagenes/mk', '/Users/student/Documents/Wi20-SysBio/GSEA/HCC_filtered.csv'] 1 [0.5, 0.7, 1]\n",
      "HCC_LM-H_vs_p-L_DOWN_FC_1 LM-H_vs_p-L_DOWN\n",
      "HCC_2_vs_p-L_DOWN_FC_1 2_vs_p-L_DOWN\n",
      "HCC_8_vs_p-L_DOWN_FC_1 8_vs_p-L_DOWN\n",
      "['HCC_MK', '/Users/student/Documents/Wi20-SysBio/metagenes/mk', '/Users/student/Documents/Wi20-SysBio/GSEA/HCC_filtered.csv'] 2 [0.5, 0.7, 1]\n",
      "HCC_8_vs_p-L_DOWN_FC_2 8_vs_p-L_DOWN\n",
      "HCC_LM-H_vs_p-L_UP_FC_2 LM-H_vs_p-L_UP\n",
      "HCC_8_vs_p-L_UP_FC_2 8_vs_p-L_UP\n",
      "HCC_LM-H_vs_LM-L_UP_FC_2 LM-H_vs_LM-L_UP\n",
      "HCC_1_vs_p-L_UP_FC_2 1_vs_p-L_UP\n",
      "HCC_7_vs_p-L_UP_FC_2 7_vs_p-L_UP\n",
      "HCC_6_vs_p-L_UP_FC_2 6_vs_p-L_UP\n",
      "HCC_5_vs_p-L_UP_FC_2 5_vs_p-L_UP\n",
      "HCC_4_vs_p-L_UP_FC_2 4_vs_p-L_UP\n",
      "HCC_0_vs_p-L_UP_FC_2 0_vs_p-L_UP\n",
      "HCC_2_vs_p-L_UP_FC_2 2_vs_p-L_UP\n",
      "HCC_3_vs_p-L_UP_FC_2 3_vs_p-L_UP\n",
      "HCC_3_vs_p-L_DOWN_FC_2 3_vs_p-L_DOWN\n",
      "['HCC_MK', '/Users/student/Documents/Wi20-SysBio/metagenes/mk', '/Users/student/Documents/Wi20-SysBio/GSEA/HCC_filtered.csv'] 2 [0.5, 0.7, 1]\n"
     ]
    },
    {
     "name": "stdout",
     "output_type": "stream",
     "text": [
      "HCC_8_vs_p-L_DOWN_FC_2 8_vs_p-L_DOWN\n",
      "HCC_LM-H_vs_p-L_UP_FC_2 LM-H_vs_p-L_UP\n",
      "HCC_8_vs_p-L_UP_FC_2 8_vs_p-L_UP\n",
      "HCC_LM-H_vs_LM-L_UP_FC_2 LM-H_vs_LM-L_UP\n",
      "['HCC_MK', '/Users/student/Documents/Wi20-SysBio/metagenes/mk', '/Users/student/Documents/Wi20-SysBio/GSEA/HCC_filtered.csv'] 2 [0.5, 0.7, 1]\n",
      "HCC_8_vs_p-L_DOWN_FC_2 8_vs_p-L_DOWN\n"
     ]
    }
   ],
   "source": [
    "#filepaths\n",
    "GO_dir = \"/Users/student/Documents/Wi20-SysBio/GSEA\"\n",
    "filepaths = [[\"MDA\", \"/Users/student/Documents/Wi20-SysBio/metagenes/mda\", \"/Users/student/Documents/Wi20-SysBio/GSEA/MDA_filtered.csv\"],\n",
    "             [\"HCC_MK\", \"/Users/student/Documents/Wi20-SysBio/metagenes/mk\",  \"/Users/student/Documents/Wi20-SysBio/GSEA/HCC_filtered.csv\"]]\n",
    "\n",
    "pval_cutoff, fdr_cutoff = 0.05, 0.05 \n",
    "\n",
    "fc_cutoffs = [0, 1, 2]\n",
    "hz_cutoffs = [0.5, 0.7, 1]\n",
    "for batch_info in filepaths:\n",
    "    for fc_cutoff in fc_cutoffs:\n",
    "        for hz_cutoff in hz_cutoffs:\n",
    "            print(batch_info, fc_cutoff, hz_cutoffs)\n",
    "            run_all(GO_dir, *batch_info, pval_cutoff, fdr_cutoff, hz_cutoff, fc_cutoff)"
   ]
  },
  {
   "cell_type": "code",
   "execution_count": null,
   "metadata": {},
   "outputs": [],
   "source": []
  }
 ],
 "metadata": {
  "kernelspec": {
   "display_name": "Python (SysBio)",
   "language": "python",
   "name": "sysbio"
  },
  "language_info": {
   "codemirror_mode": {
    "name": "ipython",
    "version": 3
   },
   "file_extension": ".py",
   "mimetype": "text/x-python",
   "name": "python",
   "nbconvert_exporter": "python",
   "pygments_lexer": "ipython3",
   "version": "3.7.6"
  }
 },
 "nbformat": 4,
 "nbformat_minor": 2
}
