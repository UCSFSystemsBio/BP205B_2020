{
 "cells": [
  {
   "cell_type": "code",
   "execution_count": 24,
   "metadata": {},
   "outputs": [],
   "source": [
    "import pandas as pd\n",
    "import os"
   ]
  },
  {
   "cell_type": "code",
   "execution_count": 28,
   "metadata": {},
   "outputs": [],
   "source": [
    "def split(filename):\n",
    "    filename = 'DE_results/Final/' + filename\n",
    "    df = pd.read_table(filename, sep=',', usecols=[1,2,3])\n",
    "    up = df[df.logfoldchange > 0]\n",
    "    down = df[df.logfoldchange < 0]\n",
    "    \n",
    "    return up, down"
   ]
  },
  {
   "cell_type": "code",
   "execution_count": 22,
   "metadata": {},
   "outputs": [],
   "source": [
    "up, down = split('DE_results/Final/0_vs_proxy_parental.csv')"
   ]
  },
  {
   "cell_type": "code",
   "execution_count": 29,
   "metadata": {
    "scrolled": true
   },
   "outputs": [
    {
     "name": "stdout",
     "output_type": "stream",
     "text": [
      "p-Low_vs_p-Brm2.csv\n",
      "0_vs_proxy_parental.csv\n",
      "1_vs_proxy_parental.csv\n",
      "12_vs_proxy_parental.csv\n",
      "5_vs_proxy_parental.csv\n",
      "8_vs_proxy_parental.csv\n",
      "9_vs_proxy_parental.csv\n",
      "2_vs_proxy_parental.csv\n",
      "10_vs_proxy_parental.csv\n",
      "6_vs_proxy_parental.csv\n",
      "3_vs_proxy_parental.csv\n",
      "Met-Like_parental_vs_rest.csv\n",
      "11_vs_proxy_parental.csv\n",
      "p-Low_vs_p-BoM.csv\n",
      "13_vs_proxy_parental.csv\n",
      "p-Low_vs_p-LM2.csv\n",
      "7_vs_proxy_parental.csv\n",
      "4_vs_proxy_parental.csv\n"
     ]
    }
   ],
   "source": [
    "\n",
    "directory = 'DE_results/Final/'\n",
    "\n",
    "for filename in os.listdir(directory):\n",
    "    print(filename)\n",
    "    up, down = split(filename)\n",
    "    \n",
    "    up_name = 'DE_results/Final/' + filename.strip('.csv') + 'up.csv'\n",
    "    down_name = 'DE_results/Final/' + filename.strip('.csv') + 'down.csv'\n",
    "    up.to_csv(up_name)\n",
    "    down.to_csv(down_name)"
   ]
  },
  {
   "cell_type": "code",
   "execution_count": null,
   "metadata": {},
   "outputs": [],
   "source": [
    "up.to"
   ]
  }
 ],
 "metadata": {
  "kernelspec": {
   "display_name": "Python 3",
   "language": "python",
   "name": "python3"
  },
  "language_info": {
   "codemirror_mode": {
    "name": "ipython",
    "version": 3
   },
   "file_extension": ".py",
   "mimetype": "text/x-python",
   "name": "python",
   "nbconvert_exporter": "python",
   "pygments_lexer": "ipython3",
   "version": "3.7.4"
  }
 },
 "nbformat": 4,
 "nbformat_minor": 2
}
