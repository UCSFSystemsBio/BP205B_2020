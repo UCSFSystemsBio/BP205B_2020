{
 "cells": [
  {
   "cell_type": "markdown",
   "metadata": {},
   "source": [
    "# GSEA Pre-ranked DE genes"
   ]
  },
  {
   "cell_type": "code",
   "execution_count": 1,
   "metadata": {},
   "outputs": [],
   "source": [
    "import numpy as np\n",
    "import pandas as pd\n",
    "import gseapy as gp\n",
    "import matplotlib.pyplot as plt\n",
    "import os\n",
    "from gseapy.plot import barplot, dotplot\n",
    "\n",
    "%matplotlib inline"
   ]
  },
  {
   "cell_type": "code",
   "execution_count": 4,
   "metadata": {},
   "outputs": [],
   "source": [
    "datasetDir = './DE/HCC_MK/FINAL/UP/'\n",
    "sample = 'HCC_MK'"
   ]
  },
  {
   "cell_type": "code",
   "execution_count": 5,
   "metadata": {
    "scrolled": false
   },
   "outputs": [
    {
     "name": "stdout",
     "output_type": "stream",
     "text": [
      "0_vs_8_UP.csv\n",
      "0_vs_p-H_UP.csv\n",
      "0_vs_p-L_UP.csv\n",
      "1_vs_8_UP.csv\n",
      "1_vs_p-H_UP.csv\n",
      "1_vs_p-L_UP.csv\n",
      "2_vs_8_UP.csv\n",
      "2_vs_p-H_UP.csv\n",
      "2_vs_p-L_UP.csv\n",
      "3_vs_8_UP.csv\n",
      "3_vs_p-H_UP.csv\n",
      "3_vs_p-L_UP.csv\n",
      "4_vs_8_UP.csv\n",
      "4_vs_p-H_UP.csv\n",
      "4_vs_p-L_UP.csv\n",
      "5_vs_8_UP.csv\n",
      "5_vs_p-H_UP.csv\n",
      "5_vs_p-L_UP.csv\n",
      "6_vs_8_UP.csv\n",
      "6_vs_p-H_UP.csv\n",
      "6_vs_p-L_UP.csv\n",
      "7_vs_8_UP.csv\n",
      "7_vs_p-H_UP.csv\n",
      "7_vs_p-L_UP.csv\n",
      "8_vs_p-H_UP.csv\n",
      "8_vs_p-L_UP.csv\n",
      "9_vs_8_UP.csv\n",
      "LM-H_vs_LM-L_UP.csv\n",
      "LM-H_vs_p-L_UP.csv\n",
      "p-H_vs_p-L_UP.csv\n"
     ]
    }
   ],
   "source": [
    "for file in os.listdir(datasetDir):\n",
    "    print(file)\n",
    "    if '.csv' in file:\n",
    "        # Prerank gene list\n",
    "        ## Only contains two columns, or one cloumn with gene_name indexed when assign a DataFrame to prerank\n",
    "        rnk = pd.read_csv(datasetDir + file,index_col=0)\n",
    "        rnk = rnk[['genes','logfoldchange']]\n",
    "        \n",
    "        # run prerank\n",
    "        # enrichr libraries are supported by prerank module. Just provide the name\n",
    "        # use 4 process to acceralate the permutation speed\n",
    "\n",
    "        # note: multiprocessing may not work on windows\n",
    "        #pre_res = gp.prerank(rnk=rnk, gene_sets='KEGG_2019_Human',\n",
    "                             #permutation_num=100, # reduce number to speed up testing\n",
    "                             #outdir='GSEA//'+sample+'//'+file.split('.')[0]+'_prerank_report_KEGG', format='png')\n",
    "\n",
    "        pre_res2 = gp.prerank(rnk=rnk, gene_sets='GO_Biological_Process_2018',\n",
    "                              permutation_num=1000, # reduce number to speed up testing\n",
    "                              outdir='GSEA//'+sample+'//'+file.split('.')[0]+'_prerank_report_GO', format='png')\n",
    "\n",
    "        \n",
    "        # Barplot\n",
    "        #barplot(pre_res.res2d.reset_index(),title='KEGG Pathways' + file,column='es',)\n",
    "\n",
    "        #plt.savefig('GSEA//'+sample+'//'+file.split('.')[0]+'prerank_report_KEGG.png',bbox_inches='tight')\n",
    "\n",
    "        barplot(pre_res2.res2d.reset_index(),title='GO Biological Process' + file ,column='es',)\n",
    "\n",
    "        plt.savefig('GSEA//'+sample+'//'+file.split('.')[0]+'prerank_report_GO.png',bbox_inches='tight')\n",
    "        plt.close()"
   ]
  },
  {
   "cell_type": "code",
   "execution_count": null,
   "metadata": {},
   "outputs": [],
   "source": []
  }
 ],
 "metadata": {
  "kernelspec": {
   "display_name": "Python 3",
   "language": "python",
   "name": "python3"
  },
  "language_info": {
   "codemirror_mode": {
    "name": "ipython",
    "version": 3
   },
   "file_extension": ".py",
   "mimetype": "text/x-python",
   "name": "python",
   "nbconvert_exporter": "python",
   "pygments_lexer": "ipython3",
   "version": "3.7.4"
  }
 },
 "nbformat": 4,
 "nbformat_minor": 2
}
